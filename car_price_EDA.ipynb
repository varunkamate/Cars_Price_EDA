{
 "cells": [
  {
   "cell_type": "code",
   "execution_count": 27,
   "id": "fd65a4a4-45c9-4d39-bb03-e28d34cf468f",
   "metadata": {},
   "outputs": [],
   "source": [
    "import pandas as pd\n",
    "import numpy as np\n",
    "import matplotlib.pyplot as plt\n",
    "import seaborn as sns"
   ]
  },
  {
   "cell_type": "code",
   "execution_count": 2,
   "id": "27c3cb44-d27a-4705-9c44-5be5c68be602",
   "metadata": {},
   "outputs": [],
   "source": [
    "df=pd.read_csv(\"car_price_dataset.csv\")"
   ]
  },
  {
   "cell_type": "code",
   "execution_count": 3,
   "id": "ea9918a2-97c3-4057-88da-1f756132d1b4",
   "metadata": {},
   "outputs": [
    {
     "data": {
      "text/html": [
       "<div>\n",
       "<style scoped>\n",
       "    .dataframe tbody tr th:only-of-type {\n",
       "        vertical-align: middle;\n",
       "    }\n",
       "\n",
       "    .dataframe tbody tr th {\n",
       "        vertical-align: top;\n",
       "    }\n",
       "\n",
       "    .dataframe thead th {\n",
       "        text-align: right;\n",
       "    }\n",
       "</style>\n",
       "<table border=\"1\" class=\"dataframe\">\n",
       "  <thead>\n",
       "    <tr style=\"text-align: right;\">\n",
       "      <th></th>\n",
       "      <th>Brand</th>\n",
       "      <th>Model</th>\n",
       "      <th>Year</th>\n",
       "      <th>Engine_Size</th>\n",
       "      <th>Fuel_Type</th>\n",
       "      <th>Transmission</th>\n",
       "      <th>Mileage</th>\n",
       "      <th>Doors</th>\n",
       "      <th>Owner_Count</th>\n",
       "      <th>Price</th>\n",
       "    </tr>\n",
       "  </thead>\n",
       "  <tbody>\n",
       "    <tr>\n",
       "      <th>0</th>\n",
       "      <td>Kia</td>\n",
       "      <td>Rio</td>\n",
       "      <td>2020</td>\n",
       "      <td>4.2</td>\n",
       "      <td>Diesel</td>\n",
       "      <td>Manual</td>\n",
       "      <td>289944</td>\n",
       "      <td>3</td>\n",
       "      <td>5</td>\n",
       "      <td>8501</td>\n",
       "    </tr>\n",
       "    <tr>\n",
       "      <th>1</th>\n",
       "      <td>Chevrolet</td>\n",
       "      <td>Malibu</td>\n",
       "      <td>2012</td>\n",
       "      <td>2.0</td>\n",
       "      <td>Hybrid</td>\n",
       "      <td>Automatic</td>\n",
       "      <td>5356</td>\n",
       "      <td>2</td>\n",
       "      <td>3</td>\n",
       "      <td>12092</td>\n",
       "    </tr>\n",
       "    <tr>\n",
       "      <th>2</th>\n",
       "      <td>Mercedes</td>\n",
       "      <td>GLA</td>\n",
       "      <td>2020</td>\n",
       "      <td>4.2</td>\n",
       "      <td>Diesel</td>\n",
       "      <td>Automatic</td>\n",
       "      <td>231440</td>\n",
       "      <td>4</td>\n",
       "      <td>2</td>\n",
       "      <td>11171</td>\n",
       "    </tr>\n",
       "    <tr>\n",
       "      <th>3</th>\n",
       "      <td>Audi</td>\n",
       "      <td>Q5</td>\n",
       "      <td>2023</td>\n",
       "      <td>2.0</td>\n",
       "      <td>Electric</td>\n",
       "      <td>Manual</td>\n",
       "      <td>160971</td>\n",
       "      <td>2</td>\n",
       "      <td>1</td>\n",
       "      <td>11780</td>\n",
       "    </tr>\n",
       "    <tr>\n",
       "      <th>4</th>\n",
       "      <td>Volkswagen</td>\n",
       "      <td>Golf</td>\n",
       "      <td>2003</td>\n",
       "      <td>2.6</td>\n",
       "      <td>Hybrid</td>\n",
       "      <td>Semi-Automatic</td>\n",
       "      <td>286618</td>\n",
       "      <td>3</td>\n",
       "      <td>3</td>\n",
       "      <td>2867</td>\n",
       "    </tr>\n",
       "    <tr>\n",
       "      <th>...</th>\n",
       "      <td>...</td>\n",
       "      <td>...</td>\n",
       "      <td>...</td>\n",
       "      <td>...</td>\n",
       "      <td>...</td>\n",
       "      <td>...</td>\n",
       "      <td>...</td>\n",
       "      <td>...</td>\n",
       "      <td>...</td>\n",
       "      <td>...</td>\n",
       "    </tr>\n",
       "    <tr>\n",
       "      <th>9995</th>\n",
       "      <td>Kia</td>\n",
       "      <td>Optima</td>\n",
       "      <td>2004</td>\n",
       "      <td>3.7</td>\n",
       "      <td>Diesel</td>\n",
       "      <td>Semi-Automatic</td>\n",
       "      <td>5794</td>\n",
       "      <td>2</td>\n",
       "      <td>4</td>\n",
       "      <td>8884</td>\n",
       "    </tr>\n",
       "    <tr>\n",
       "      <th>9996</th>\n",
       "      <td>Chevrolet</td>\n",
       "      <td>Impala</td>\n",
       "      <td>2002</td>\n",
       "      <td>1.4</td>\n",
       "      <td>Electric</td>\n",
       "      <td>Automatic</td>\n",
       "      <td>168000</td>\n",
       "      <td>2</td>\n",
       "      <td>1</td>\n",
       "      <td>6240</td>\n",
       "    </tr>\n",
       "    <tr>\n",
       "      <th>9997</th>\n",
       "      <td>BMW</td>\n",
       "      <td>3 Series</td>\n",
       "      <td>2010</td>\n",
       "      <td>3.0</td>\n",
       "      <td>Petrol</td>\n",
       "      <td>Automatic</td>\n",
       "      <td>86664</td>\n",
       "      <td>5</td>\n",
       "      <td>1</td>\n",
       "      <td>9866</td>\n",
       "    </tr>\n",
       "    <tr>\n",
       "      <th>9998</th>\n",
       "      <td>Ford</td>\n",
       "      <td>Explorer</td>\n",
       "      <td>2002</td>\n",
       "      <td>1.4</td>\n",
       "      <td>Hybrid</td>\n",
       "      <td>Automatic</td>\n",
       "      <td>225772</td>\n",
       "      <td>4</td>\n",
       "      <td>1</td>\n",
       "      <td>4084</td>\n",
       "    </tr>\n",
       "    <tr>\n",
       "      <th>9999</th>\n",
       "      <td>Volkswagen</td>\n",
       "      <td>Tiguan</td>\n",
       "      <td>2001</td>\n",
       "      <td>2.1</td>\n",
       "      <td>Diesel</td>\n",
       "      <td>Manual</td>\n",
       "      <td>157882</td>\n",
       "      <td>3</td>\n",
       "      <td>3</td>\n",
       "      <td>3342</td>\n",
       "    </tr>\n",
       "  </tbody>\n",
       "</table>\n",
       "<p>10000 rows × 10 columns</p>\n",
       "</div>"
      ],
      "text/plain": [
       "           Brand     Model  Year  Engine_Size Fuel_Type    Transmission  \\\n",
       "0            Kia       Rio  2020          4.2    Diesel          Manual   \n",
       "1      Chevrolet    Malibu  2012          2.0    Hybrid       Automatic   \n",
       "2       Mercedes       GLA  2020          4.2    Diesel       Automatic   \n",
       "3           Audi        Q5  2023          2.0  Electric          Manual   \n",
       "4     Volkswagen      Golf  2003          2.6    Hybrid  Semi-Automatic   \n",
       "...          ...       ...   ...          ...       ...             ...   \n",
       "9995         Kia    Optima  2004          3.7    Diesel  Semi-Automatic   \n",
       "9996   Chevrolet    Impala  2002          1.4  Electric       Automatic   \n",
       "9997         BMW  3 Series  2010          3.0    Petrol       Automatic   \n",
       "9998        Ford  Explorer  2002          1.4    Hybrid       Automatic   \n",
       "9999  Volkswagen    Tiguan  2001          2.1    Diesel          Manual   \n",
       "\n",
       "      Mileage  Doors  Owner_Count  Price  \n",
       "0      289944      3            5   8501  \n",
       "1        5356      2            3  12092  \n",
       "2      231440      4            2  11171  \n",
       "3      160971      2            1  11780  \n",
       "4      286618      3            3   2867  \n",
       "...       ...    ...          ...    ...  \n",
       "9995     5794      2            4   8884  \n",
       "9996   168000      2            1   6240  \n",
       "9997    86664      5            1   9866  \n",
       "9998   225772      4            1   4084  \n",
       "9999   157882      3            3   3342  \n",
       "\n",
       "[10000 rows x 10 columns]"
      ]
     },
     "execution_count": 3,
     "metadata": {},
     "output_type": "execute_result"
    }
   ],
   "source": [
    "df"
   ]
  },
  {
   "cell_type": "code",
   "execution_count": 4,
   "id": "5e1e2546-56ec-43f3-a401-0df55f4df95b",
   "metadata": {},
   "outputs": [
    {
     "data": {
      "text/plain": [
       "Brand           0\n",
       "Model           0\n",
       "Year            0\n",
       "Engine_Size     0\n",
       "Fuel_Type       0\n",
       "Transmission    0\n",
       "Mileage         0\n",
       "Doors           0\n",
       "Owner_Count     0\n",
       "Price           0\n",
       "dtype: int64"
      ]
     },
     "execution_count": 4,
     "metadata": {},
     "output_type": "execute_result"
    }
   ],
   "source": [
    "df.isna().sum() #the given dataset not contain any null values in it"
   ]
  },
  {
   "cell_type": "markdown",
   "id": "628cedfe-66b3-4dd7-a2dc-4e141fe7f463",
   "metadata": {},
   "source": [
    "EDA Practice Questions"
   ]
  },
  {
   "cell_type": "code",
   "execution_count": 5,
   "id": "7a1a027e-6848-49ae-bd23-adf9e2cd4ada",
   "metadata": {},
   "outputs": [
    {
     "name": "stdout",
     "output_type": "stream",
     "text": [
      "the average price of the car is :  8852.9644\n"
     ]
    }
   ],
   "source": [
    "#1. What is the average price of all cars in the dataset?\n",
    "Avg_Price_of_cars=df[\"Price\"].mean()\n",
    "print(\"the average price of the car is : \",Avg_Price_of_cars)"
   ]
  },
  {
   "cell_type": "code",
   "execution_count": 6,
   "id": "026f324b-b266-400a-809a-c28bc17f485d",
   "metadata": {},
   "outputs": [
    {
     "name": "stdout",
     "output_type": "stream",
     "text": [
      "the highest avg price car brand is : Chevrolet\n"
     ]
    }
   ],
   "source": [
    "#2. Which car brand has the highest average price?\n",
    "avg_price=df.groupby(\"Brand\")[\"Price\"].mean()\n",
    "max_avg_price=avg_price.idxmax()\n",
    "print(\"the highest avg price car brand is :\",max_avg_price)"
   ]
  },
  {
   "cell_type": "code",
   "execution_count": 7,
   "id": "72495d26-2ef1-4ad2-a2b6-8465c2b10f1e",
   "metadata": {},
   "outputs": [
    {
     "name": "stdout",
     "output_type": "stream",
     "text": [
      "common fuel type in the given dataset is : Electric\n"
     ]
    }
   ],
   "source": [
    "#3. What is the most common fuel type in the dataset?\n",
    "common_fuel_type=df[\"Fuel_Type\"].mode()[0]\n",
    "print(\"common fuel type in the given dataset is :\",common_fuel_type)"
   ]
  },
  {
   "cell_type": "code",
   "execution_count": 8,
   "id": "c0a6f2ba-77fb-4b87-b3a3-cc07bd267b4b",
   "metadata": {},
   "outputs": [
    {
     "name": "stdout",
     "output_type": "stream",
     "text": [
      "car having the mileage  greater than 200,000 is : 3290\n"
     ]
    }
   ],
   "source": [
    "#4. How many cars have a mileage greater than 200,000?\n",
    "car_mil=df[df[\"Mileage\"]>200000]\n",
    "print(\"car having the mileage  greater than 200,000 is :\",len(car_mil))"
   ]
  },
  {
   "cell_type": "code",
   "execution_count": 9,
   "id": "292da8f8-7f58-48b9-8a6e-a93cb68f1187",
   "metadata": {},
   "outputs": [
    {
     "name": "stdout",
     "output_type": "stream",
     "text": [
      "Transmission\n",
      "Manual            3372\n",
      "Automatic         3317\n",
      "Semi-Automatic    3311\n",
      "Name: count, dtype: int64\n"
     ]
    }
   ],
   "source": [
    "#5. What is the distribution of cars by transmission type?\n",
    "transmission_cars=df[\"Transmission\"].value_counts()\n",
    "print(transmission_cars)"
   ]
  },
  {
   "cell_type": "code",
   "execution_count": 10,
   "id": "f2e5e12a-bb09-493f-b189-f8fa63a370cd",
   "metadata": {},
   "outputs": [
    {
     "name": "stdout",
     "output_type": "stream",
     "text": [
      "the highest car price belongs to the model Corolla and with price amount $18301\n"
     ]
    }
   ],
   "source": [
    "#6. Which car model has the highest price?\n",
    "car_model=df.loc[df[\"Price\"].idxmax()]\n",
    "print(f\"the highest car price belongs to the model {car_model[\"Model\"]} and with price amount ${car_model[\"Price\"]}\")"
   ]
  },
  {
   "cell_type": "code",
   "execution_count": 11,
   "id": "53c4a570-d895-4b9f-a77f-4cbe2ff358b8",
   "metadata": {},
   "outputs": [
    {
     "name": "stdout",
     "output_type": "stream",
     "text": [
      "these are the avg price of a car as per fuel type\n",
      "Fuel_Type\n",
      "Diesel       8117.336385\n",
      "Electric    10032.220190\n",
      "Hybrid       9113.030167\n",
      "Petrol       8070.561826\n",
      "Name: Price, dtype: float64\n"
     ]
    }
   ],
   "source": [
    "#7. What is the average price of cars by fuel type?\n",
    "avg_fuel_type=df.groupby(\"Fuel_Type\")[\"Price\"].mean()\n",
    "print(\"these are the avg price of a car as per fuel type\")\n",
    "print(avg_fuel_type)"
   ]
  },
  {
   "cell_type": "code",
   "execution_count": 12,
   "id": "bcaf1f9f-227d-4217-b13d-51c5e566170c",
   "metadata": {},
   "outputs": [
    {
     "name": "stdout",
     "output_type": "stream",
     "text": [
      "number of cars from the year 2020 or later\n",
      "1651\n"
     ]
    }
   ],
   "source": [
    "#8. How many cars are from the year 2020 or later?\n",
    "cars_number=df[df[\"Year\"]>=2020]\n",
    "print(\"number of cars from the year 2020 or later\")\n",
    "print(len(cars_number))"
   ]
  },
  {
   "cell_type": "code",
   "execution_count": 13,
   "id": "9bf9d3f5-ced8-4603-a82d-398f2bc7e16d",
   "metadata": {},
   "outputs": [
    {
     "name": "stdout",
     "output_type": "stream",
     "text": [
      "these are average engine size for each brand\n",
      "Brand\n",
      "Audi          3.032948\n",
      "BMW           2.976877\n",
      "Chevrolet     2.993719\n",
      "Ford          3.044275\n",
      "Honda         2.925966\n",
      "Hyundai       2.936683\n",
      "Kia           3.053791\n",
      "Mercedes      3.069745\n",
      "Toyota        2.961443\n",
      "Volkswagen    3.011078\n",
      "Name: Engine_Size, dtype: float64\n"
     ]
    }
   ],
   "source": [
    "#9. What is the average engine size for each brand?\n",
    "avg_engine_size=df.groupby(\"Brand\")[\"Engine_Size\"].mean()\n",
    "print(\"these are average engine size for each brand\")\n",
    "print(avg_engine_size)"
   ]
  },
  {
   "cell_type": "code",
   "execution_count": 14,
   "id": "58c7220d-d0e1-4cb3-9bc1-0347ccee9fd6",
   "metadata": {},
   "outputs": [
    {
     "name": "stdout",
     "output_type": "stream",
     "text": [
      "the lowest mileage car belongs to brand Ford, model=Explorer and mileage is 25 miles\n"
     ]
    }
   ],
   "source": [
    "#10. Which car has the lowest mileage?\n",
    "low_mileage=df.loc[df[\"Mileage\"].idxmin()]\n",
    "print(f\"the lowest mileage car belongs to brand {low_mileage[\"Brand\"]}, model={low_mileage[\"Model\"]} and mileage is {low_mileage[\"Mileage\"]} miles\")"
   ]
  },
  {
   "cell_type": "code",
   "execution_count": 15,
   "id": "d735a54e-3f9c-4ba6-98b6-c831aaad51a7",
   "metadata": {},
   "outputs": [
    {
     "name": "stdout",
     "output_type": "stream",
     "text": [
      "the number of cars having more than 2 owners are\n",
      "5944\n"
     ]
    }
   ],
   "source": [
    "#11. How many cars have more than 2 owners?\n",
    "more_than_2_owner=df[df[\"Owner_Count\"]>2]\n",
    "print(\"the number of cars having more than 2 owners are\")\n",
    "print(len(more_than_2_owner))"
   ]
  },
  {
   "cell_type": "code",
   "execution_count": 16,
   "id": "a7ddc06c-43b4-4771-8b16-a634bcf68615",
   "metadata": {},
   "outputs": [
    {
     "name": "stdout",
     "output_type": "stream",
     "text": [
      "Year\n",
      "2000     5393.735369\n",
      "2001     5904.064039\n",
      "2002     5956.751082\n",
      "2003     6225.834646\n",
      "2004     6330.725888\n",
      "2005     6943.037123\n",
      "2006     7249.961446\n",
      "2007     7632.513953\n",
      "2008     7728.418848\n",
      "2009     8083.917293\n",
      "2010     8503.419954\n",
      "2011     8622.855234\n",
      "2012     9011.446224\n",
      "2013     9114.208531\n",
      "2014     9587.455635\n",
      "2015     9896.774648\n",
      "2016    10177.600000\n",
      "2017    10343.757506\n",
      "2018    10939.192941\n",
      "2019    11132.722090\n",
      "2020    11495.284337\n",
      "2021    11637.813299\n",
      "2022    12067.690176\n",
      "2023    12169.470982\n",
      "Name: Price, dtype: float64\n"
     ]
    }
   ],
   "source": [
    "#12. What is the average price of cars by year?\n",
    "avg_price_by_year=df.groupby(\"Year\")[\"Price\"].mean()\n",
    "print(f\"{avg_price_by_year}\")"
   ]
  },
  {
   "cell_type": "code",
   "execution_count": 17,
   "id": "1f80f858-0983-4feb-acbe-f37f8c8629b4",
   "metadata": {},
   "outputs": [
    {
     "name": "stdout",
     "output_type": "stream",
     "text": [
      "the car with the highest number of doors is Golf with th doors count 5\n"
     ]
    }
   ],
   "source": [
    "#13. Which car has the highest number of doors?\n",
    "highest_number_of_doors_car=df.loc[df[\"Doors\"].idxmax()]\n",
    "print(f\"the car with the highest number of doors is {highest_number_of_doors_car[\"Model\"]} with th doors count {highest_number_of_doors_car[\"Doors\"]}\")"
   ]
  },
  {
   "cell_type": "code",
   "execution_count": 18,
   "id": "d83afa3f-e63a-47ac-b87c-786e2145a835",
   "metadata": {},
   "outputs": [
    {
     "name": "stdout",
     "output_type": "stream",
     "text": [
      "average mileage for each fuel type\n",
      "Fuel_Type\n",
      "Diesel      150261.533041\n",
      "Electric    151059.307429\n",
      "Hybrid      145577.587036\n",
      "Petrol      149917.694606\n",
      "Name: Mileage, dtype: float64\n"
     ]
    }
   ],
   "source": [
    "#14. What is the average mileage for each fuel type?\n",
    "avg_mileage_fuel_type=df.groupby(\"Fuel_Type\")[\"Mileage\"].mean()\n",
    "print(\"average mileage for each fuel type\")\n",
    "print(avg_mileage_fuel_type)"
   ]
  },
  {
   "cell_type": "code",
   "execution_count": 19,
   "id": "5479bf64-5a98-4e32-b9eb-16072e822270",
   "metadata": {},
   "outputs": [
    {
     "name": "stdout",
     "output_type": "stream",
     "text": [
      "the number of cars belongs to toyota brands are\n",
      "970\n"
     ]
    }
   ],
   "source": [
    "#15. How many cars are from the brand 'Toyota'?\n",
    "cars_from_toyota_brand=df[df[\"Brand\"]==\"Toyota\"]\n",
    "print(\"the number of cars belongs to toyota brands are\")\n",
    "print(len(cars_from_toyota_brand))"
   ]
  },
  {
   "cell_type": "code",
   "execution_count": 20,
   "id": "e2f709da-ae83-47fa-855c-66d30b5c9930",
   "metadata": {},
   "outputs": [
    {
     "name": "stdout",
     "output_type": "stream",
     "text": [
      "average price for the automatic transmission cars is: 9938.25\n"
     ]
    }
   ],
   "source": [
    "#16. What is the average price of cars with automatic transmission?\n",
    "automatic_car=df[df[\"Transmission\"]==\"Automatic\"]\n",
    "avg_price=automatic_car[\"Price\"].mean()\n",
    "print(f\"average price for the automatic transmission cars is: {round(avg_price,2)}\")"
   ]
  },
  {
   "cell_type": "code",
   "execution_count": 21,
   "id": "ad336703-1d79-49e6-8151-9df2812492f5",
   "metadata": {},
   "outputs": [
    {
     "name": "stdout",
     "output_type": "stream",
     "text": [
      "car with highest owner count is: Rio\n"
     ]
    }
   ],
   "source": [
    "#17. Which car has the highest owner count?\n",
    "highest_owner_count=df.loc[df[\"Owner_Count\"].idxmax()]\n",
    "car_with_max_owner_count=highest_owner_count[\"Model\"]\n",
    "print(f\"car with highest owner count is: {car_with_max_owner_count}\")"
   ]
  },
  {
   "cell_type": "code",
   "execution_count": 22,
   "id": "a3016678-30f1-41a6-9f80-a41ebd9b2b1e",
   "metadata": {},
   "outputs": [
    {
     "name": "stdout",
     "output_type": "stream",
     "text": [
      "here is the average engine size for each fuel type\n",
      "Fuel_Type\n",
      "Diesel      3.011863\n",
      "Electric    2.990514\n",
      "Hybrid      2.997187\n",
      "Petrol      3.003154\n",
      "Name: Engine_Size, dtype: float64\n"
     ]
    }
   ],
   "source": [
    "#18. What is the average engine size for cars with diesel fuel type?\n",
    "engine_size=df.groupby(\"Fuel_Type\")[\"Engine_Size\"].mean()\n",
    "print(\"here is the average engine size for each fuel type\")\n",
    "print(engine_size)"
   ]
  },
  {
   "cell_type": "code",
   "execution_count": 23,
   "id": "4ec3b016-ea17-4b67-b056-4d068c4adf44",
   "metadata": {},
   "outputs": [
    {
     "name": "stdout",
     "output_type": "stream",
     "text": [
      "the number of cars price greater than $10000\n",
      "3651\n"
     ]
    }
   ],
   "source": [
    "#19. How many cars have a price greater than $10,000?\n",
    "number_of_cars=df[df[\"Price\"]>10000]\n",
    "print(\"the number of cars price greater than $10000\")\n",
    "print(len(number_of_cars))"
   ]
  },
  {
   "cell_type": "code",
   "execution_count": 35,
   "id": "abd89d91-62ce-4c0d-8823-7078f556de77",
   "metadata": {},
   "outputs": [
    {
     "data": {
      "image/png": "[encoded data removed]",
      "text/plain": [
       "<Figure size 640x480 with 1 Axes>"
      ]
     },
     "metadata": {},
     "output_type": "display_data"
    }
   ],
   "source": [
    "#20. How has the average car price changed over the years?\n",
    "avg_car_price_per_year=df.groupby(\"Year\")[\"Price\"].mean().reset_index()\n",
    "sns.lineplot(data=avg_car_price_per_year,x=\"Year\",y=\"Price\",marker=\"*\")\n",
    "plt.title(\"Average Car Price Changed Over The Year\")\n",
    "plt.xlabel(\"Year\")\n",
    "plt.ylabel(\"Car Price\")\n",
    "plt.show()"
   ]
  },
  {
   "cell_type": "code",
   "execution_count": 32,
   "id": "770ba3cf-b725-410e-9e6e-d6517a425fa8",
   "metadata": {},
   "outputs": [
    {
     "name": "stdout",
     "output_type": "stream",
     "text": [
      "the oldest car in the dataset is: Kia[Rio]\n",
      "the newest car in the dataset is: Audi[Q5]\n"
     ]
    }
   ],
   "source": [
    "#21. What is the oldest and newest car in the dataset?\n",
    "oldest_car=df.loc[df[\"Year\"].idxmin()]\n",
    "newest_car=df.loc[df[\"Year\"].idxmax()]\n",
    "print(f\"the oldest car in the dataset is: {oldest_car[\"Brand\"]}[{oldest_car[\"Model\"]}]\")\n",
    "print(f\"the newest car in the dataset is: {newest_car[\"Brand\"]}[{newest_car[\"Model\"]}]\")"
   ]
  },
  {
   "cell_type": "code",
   "execution_count": 40,
   "id": "3f961d45-88bb-4b95-9118-38d1e5b15c13",
   "metadata": {},
   "outputs": [
    {
     "name": "stdout",
     "output_type": "stream",
     "text": [
      "cars count per year is:\n",
      "Year\n",
      "2002    462\n",
      "2011    449\n",
      "2023    448\n",
      "2012    437\n",
      "2017    433\n",
      "2010    431\n",
      "2005    431\n",
      "2007    430\n",
      "2015    426\n",
      "2018    425\n",
      "2013    422\n",
      "2019    421\n",
      "2014    417\n",
      "2006    415\n",
      "2020    415\n",
      "2001    406\n",
      "2009    399\n",
      "2022    397\n",
      "2016    395\n",
      "2004    394\n",
      "2000    393\n",
      "2021    391\n",
      "2008    382\n",
      "2003    381\n",
      "Name: count, dtype: int64\n"
     ]
    }
   ],
   "source": [
    "#22. How many cars are listed per year?\n",
    "car_count_per_year=df[\"Year\"].value_counts()\n",
    "print(\"cars count per year is:\")\n",
    "print(car_count_per_year)"
   ]
  },
  {
   "cell_type": "code",
   "execution_count": 44,
   "id": "0b4b35b0-f14b-4708-bf78-2a0c6b82156e",
   "metadata": {},
   "outputs": [
    {
     "name": "stdout",
     "output_type": "stream",
     "text": [
      "The average car price brand is: Chevrolet\n"
     ]
    }
   ],
   "source": [
    "#23. Which brands have the highest average car price?\n",
    "avg_brand_cars=df.groupby(\"Brand\")[\"Price\"].mean()\n",
    "highest_avg_car_price=avg_brand_cars.idxmax()\n",
    "print(\"The average car price brand is:\",highest_avg_car_price)"
   ]
  },
  {
   "cell_type": "code",
   "execution_count": 48,
   "id": "9946b80f-7479-4777-b62c-f67dced29d8c",
   "metadata": {},
   "outputs": [
    {
     "name": "stdout",
     "output_type": "stream",
     "text": [
      "Most fuel efficient car brand is:  Mercedes\n"
     ]
    }
   ],
   "source": [
    "#24. Which brands tend to offer the most fuel-efficient (lower mileage) cars?\n",
    "fuel_eff=df.groupby(\"Brand\")[\"Mileage\"].mean()\n",
    "fuel_eff_brand=fuel_eff.idxmin()\n",
    "print(\"Most fuel efficient car brand is: \",fuel_eff_brand)"
   ]
  },
  {
   "cell_type": "code",
   "execution_count": 51,
   "id": "b13b1d34-bdfb-4fca-a60c-a05276f17c61",
   "metadata": {},
   "outputs": [
    {
     "data": {
      "image/png": "[encoded data removed]",
      "text/plain": [
       "<Figure size 640x480 with 1 Axes>"
      ]
     },
     "metadata": {},
     "output_type": "display_data"
    }
   ],
   "source": [
    "#25. What is the distribution of car prices?\n",
    "car_price=df[\"Price\"]\n",
    "sns.histplot(car_price,color=\"red\")\n",
    "plt.title(\"Distribution of the car price\")\n",
    "plt.xlabel(\"Car Price\")\n",
    "plt.ylabel(\"Number of cars\")\n",
    "plt.show()"
   ]
  },
  {
   "cell_type": "code",
   "execution_count": 54,
   "id": "c29ae579-8004-4170-bd27-35ec597bde68",
   "metadata": {},
   "outputs": [
    {
     "name": "stdout",
     "output_type": "stream",
     "text": [
      "Median car price brand is:\n",
      "Brand\n",
      "Audi          8917.0\n",
      "BMW           8741.0\n",
      "Chevrolet     9038.0\n",
      "Ford          8775.5\n",
      "Honda         8624.0\n",
      "Hyundai       8755.0\n",
      "Kia           8914.0\n",
      "Mercedes      9142.0\n",
      "Toyota        8726.0\n",
      "Volkswagen    8976.0\n",
      "Name: Price, dtype: float64\n",
      "-----------------------------------------------------------------------------\n",
      "Mean car price brand is:\n",
      "Brand\n",
      "Audi          8929.37\n",
      "BMW           8704.07\n",
      "Chevrolet     9015.68\n",
      "Ford          8852.57\n",
      "Honda         8665.60\n",
      "Hyundai       8778.28\n",
      "Kia           8880.09\n",
      "Mercedes      8980.09\n",
      "Toyota        8798.18\n",
      "Volkswagen    8928.38\n",
      "Name: Price, dtype: float64\n"
     ]
    }
   ],
   "source": [
    "#26. What is the average and median price of cars by brand?\n",
    "median_car_price_brand=df.groupby(\"Brand\")[\"Price\"].median()\n",
    "mean_car_price_brand=df.groupby(\"Brand\")[\"Price\"].mean()\n",
    "print(\"Median car price brand is:\")\n",
    "print(median_car_price_brand)\n",
    "print(\"-----------------------------------------------------------------------------\")\n",
    "print(\"Mean car price brand is:\")\n",
    "print(round(mean_car_price_brand,2))"
   ]
  },
  {
   "cell_type": "code",
   "execution_count": 58,
   "id": "848c5a6c-9f39-4093-9c97-10a82fb26957",
   "metadata": {},
   "outputs": [
    {
     "data": {
      "image/png": "[encoded data removed]",
      "text/plain": [
       "<Figure size 640x480 with 1 Axes>"
      ]
     },
     "metadata": {},
     "output_type": "display_data"
    }
   ],
   "source": [
    "#27. What is the distribution of engine sizes across all cars?\n",
    "engine_size=df[\"Engine_Size\"]\n",
    "sns.histplot(engine_size,color=\"green\")\n",
    "plt.title(\"Distribution of engine sizes across all cars\")\n",
    "plt.xlabel(\"Enginne Size\")\n",
    "plt.ylabel(\"Number of Cars\")\n",
    "plt.show()"
   ]
  },
  {
   "cell_type": "code",
   "execution_count": 62,
   "id": "bf7baf50-23ef-4939-a875-3c0f3aa06ec1",
   "metadata": {},
   "outputs": [
    {
     "name": "stdout",
     "output_type": "stream",
     "text": [
      "Most common fuel type in above dataset is: Electric\n"
     ]
    }
   ],
   "source": [
    "#28. Which fuel type is most common in the dataset?\n",
    "most_common_fuel_type=df[\"Fuel_Type\"].mode()[0]\n",
    "print(\"Most common fuel type in above dataset is:\",most_common_fuel_type)"
   ]
  },
  {
   "cell_type": "code",
   "execution_count": 71,
   "id": "5c0fad28-c719-4b21-beec-2a7f6ee3432a",
   "metadata": {},
   "outputs": [
    {
     "data": {
      "image/png": "[encoded data removed]",
      "text/plain": [
       "<Figure size 640x480 with 1 Axes>"
      ]
     },
     "metadata": {},
     "output_type": "display_data"
    }
   ],
   "source": [
    "#29. How does transmission type affect car price?\n",
    "trans=df.groupby(\"Transmission\")[\"Price\"].mean().reset_index()\n",
    "trans_price=trans.sort_values(by=\"Price\")\n",
    "sns.barplot(data=trans_price,x=\"Transmission\",y=\"Price\")\n",
    "plt.title(\"Transmission type affect car price chart\")\n",
    "plt.xlabel(\"Transmission type of a car\")\n",
    "plt.ylabel(\"Number of cars\") \n",
    "plt.show()"
   ]
  },
  {
   "cell_type": "code",
   "execution_count": 72,
   "id": "8f23aeb1-e384-4b91-bcad-4123bc427d69",
   "metadata": {},
   "outputs": [
    {
     "name": "stdout",
     "output_type": "stream",
     "text": [
      "Most common number of doors in cars is:  3\n"
     ]
    }
   ],
   "source": [
    "#30. What is the most common number of doors in cars?\n",
    "most_common_doors_number=df[\"Doors\"].mode()[0]\n",
    "print(\"Most common number of doors in cars is: \",most_common_doors_number)"
   ]
  },
  {
   "cell_type": "code",
   "execution_count": 76,
   "id": "730af231-1d4b-4ede-9bdb-6f40c0db0c68",
   "metadata": {},
   "outputs": [
    {
     "data": {
      "image/png": "[encoded data removed]",
      "text/plain": [
       "<Figure size 640x480 with 1 Axes>"
      ]
     },
     "metadata": {},
     "output_type": "display_data"
    }
   ],
   "source": [
    "#31. Do 2-door cars cost less than 4-door cars?\n",
    "door_cost=df.groupby(\"Doors\")[\"Price\"].mean().reset_index()\n",
    "sns.barplot(data=door_cost,x=\"Doors\",y=\"Price\",color=\"red\")\n",
    "plt.title(\"Car price as per number of doors\")\n",
    "plt.xlabel(\"Number of doors\")\n",
    "plt.ylabel(\"Car price\")\n",
    "plt.show()"
   ]
  },
  {
   "cell_type": "code",
   "execution_count": 81,
   "id": "e0563ab3-e5bf-42c0-8bac-1964f756a545",
   "metadata": {},
   "outputs": [
    {
     "name": "stdout",
     "output_type": "stream",
     "text": [
      "             Price\n",
      "Doors             \n",
      "2      8928.931161\n",
      "3      8746.446602\n",
      "4      8841.587908\n",
      "5      8900.352606\n"
     ]
    }
   ],
   "source": [
    "avg_door_cost=df.groupby(\"Doors\")[\"Price\"].mean()\n",
    "avg_price_door=pd.DataFrame(avg_door_cost)\n",
    "print(avg_price_door)"
   ]
  },
  {
   "cell_type": "code",
   "execution_count": 84,
   "id": "db75bce9-2131-4700-bad9-04d3b98cd776",
   "metadata": {},
   "outputs": [
    {
     "data": {
      "image/png": "[encoded data removed]",
      "text/plain": [
       "<Figure size 640x480 with 1 Axes>"
      ]
     },
     "metadata": {},
     "output_type": "display_data"
    }
   ],
   "source": [
    "#32. Detect outliers in price, mileage, and engine size using boxplots.\n",
    "sns.boxplot(data=df[\"Price\"])\n",
    "plt.title(\"Car price outliers detaction\")\n",
    "plt.show()"
   ]
  },
  {
   "cell_type": "code",
   "execution_count": 85,
   "id": "1628b9cd-241d-4896-abb3-e1f70fce0103",
   "metadata": {},
   "outputs": [
    {
     "data": {
      "image/png": "[encoded data removed]",
      "text/plain": [
       "<Figure size 640x480 with 1 Axes>"
      ]
     },
     "metadata": {},
     "output_type": "display_data"
    }
   ],
   "source": [
    "#for mileage\n",
    "sns.boxplot(data=df[\"Mileage\"])\n",
    "plt.title(\"Car mileage outliers detaction\")\n",
    "plt.show()"
   ]
  },
  {
   "cell_type": "code",
   "execution_count": 86,
   "id": "52a0a881-23e3-485e-b1ad-f68a7ba994bf",
   "metadata": {},
   "outputs": [
    {
     "data": {
      "image/png": "[encoded data removed]",
      "text/plain": [
       "<Figure size 640x480 with 1 Axes>"
      ]
     },
     "metadata": {},
     "output_type": "display_data"
    }
   ],
   "source": [
    "#for Engine_size\n",
    "sns.boxplot(data=df[\"Engine_Size\"])\n",
    "plt.title(\"Car engine size outliers detaction\")\n",
    "plt.show()"
   ]
  },
  {
   "cell_type": "code",
   "execution_count": null,
   "id": "3c5ac36e-f713-466e-bb61-3fc6d0419087",
   "metadata": {},
   "outputs": [],
   "source": []
  }
 ],
 "metadata": {
  "kernelspec": {
   "display_name": "Python 3 (ipykernel)",
   "language": "python",
   "name": "python3"
  },
  "language_info": {
   "codemirror_mode": {
    "name": "ipython",
    "version": 3
   },
   "file_extension": ".py",
   "mimetype": "text/x-python",
   "name": "python",
   "nbconvert_exporter": "python",
   "pygments_lexer": "ipython3",
   "version": "3.12.4"
  }
 },
 "nbformat": 4,
 "nbformat_minor": 5
}
